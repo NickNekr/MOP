{
 "cells": [
  {
   "cell_type": "markdown",
   "metadata": {
    "pycharm": {
     "name": "#%% md\n"
    }
   },
   "source": [
    "# Машинное обучение, ФКН ВШЭ\n",
    "\n",
    "# Практическое задание 6. Бустинговое\n",
    "\n",
    "## Общая информация\n",
    "\n",
    "Дата выдачи: 12.12.2023\n",
    "\n",
    "Мягкий дедлайн: 24.12.2023 23:59 MSK\n",
    "\n",
    "Жёсткий дедлайн: 24.12.2023 23:59 MSK\n",
    "\n",
    "## Оценивание и штрафы\n",
    "\n",
    "Каждая из задач имеет определенную «стоимость» (указана в скобках около задачи). Максимально допустимая оценка за работу — 10 баллов.\n",
    "\n",
    "Сдавать задание после указанного срока сдачи нельзя. При выставлении неполного балла за задание в связи с наличием ошибок на усмотрение проверяющего предусмотрена возможность исправить работу на указанных в ответном письме условиях.\n",
    "\n",
    "Задание выполняется самостоятельно. «Похожие» решения считаются плагиатом и все задействованные студенты (в том числе те, у кого списали) не могут получить за него больше 0 баллов (подробнее о плагиате см. на странице курса). Если вы нашли решение какого-то из заданий (или его часть) в открытом источнике, необходимо указать ссылку на этот источник в отдельном блоке в конце вашей работы (скорее всего вы будете не единственным, кто это нашел, поэтому чтобы исключить подозрение в плагиате, необходима ссылка на источник).\n",
    "\n",
    "Неэффективная реализация кода может негативно отразиться на оценке.\n",
    "\n",
    "## Формат сдачи\n",
    "Задания сдаются через систему anytask. Посылка должна содержать:\n",
    "* Ноутбук homework-practice-06-Username.ipynb\n",
    "\n",
    "Username — ваша фамилия на латинице"
   ]
  },
  {
   "cell_type": "markdown",
   "metadata": {
    "pycharm": {
     "name": "#%% md\n"
    }
   },
   "source": [
    "## О задании\n",
    "\n",
    "В этом задании вам предстоит вручную запрограммировать один из самых мощных алгоритмов машинного обучения — бустинг."
   ]
  },
  {
   "cell_type": "code",
   "execution_count": 1,
   "metadata": {
    "pycharm": {
     "name": "#%%\n"
    }
   },
   "outputs": [],
   "source": [
    "from warnings import filterwarnings\n",
    "\n",
    "import matplotlib.pyplot as plt\n",
    "import numpy as np\n",
    "import seaborn as sns\n",
    "from scipy.sparse import load_npz\n",
    "from sklearn.model_selection import train_test_split\n",
    "\n",
    "\n",
    "sns.set(style='darkgrid')\n",
    "filterwarnings('ignore')"
   ]
  },
  {
   "cell_type": "code",
   "execution_count": 2,
   "metadata": {
    "pycharm": {
     "name": "#%%\n"
    }
   },
   "outputs": [],
   "source": [
    "x = load_npz('x.npz')\n",
    "y = np.load('y.npy')"
   ]
  },
  {
   "cell_type": "markdown",
   "metadata": {
    "pycharm": {
     "name": "#%% md\n"
    }
   },
   "source": [
    "Разделим на обучающую, валидационную и тестовую выборки (`random_state` оставьте равным 1337 для воспроизводимости)."
   ]
  },
  {
   "cell_type": "code",
   "execution_count": 3,
   "metadata": {
    "pycharm": {
     "name": "#%%\n"
    }
   },
   "outputs": [
    {
     "data": {
      "text/plain": [
       "((18825, 169), (2354, 169), (2353, 169))"
      ]
     },
     "execution_count": 3,
     "metadata": {},
     "output_type": "execute_result"
    }
   ],
   "source": [
    "x_train, x_test, y_train, y_test = train_test_split(x, y, test_size=0.2, random_state=1337)\n",
    "\n",
    "x_test, x_valid, y_test, y_valid = train_test_split(x_test, y_test, test_size=0.5, random_state=1337)\n",
    "\n",
    "x_train.shape, x_valid.shape, x_test.shape"
   ]
  },
  {
   "cell_type": "markdown",
   "metadata": {
    "pycharm": {
     "name": "#%% md\n"
    }
   },
   "source": [
    "## Задание 1. Реализация градиентного бустингового (4 балла)\n",
    "\n",
    "Вам нужно дописать код в файлике `boosting.py`. Для вас уже подготовлен шаблон класса `Boosting`, вы можете менять его по своему усмотрению.\n",
    "\n",
    "### Инструкции для функций:\n",
    "\n",
    "#### `__init__`\n",
    "\n",
    "В `__init__` приходит кучка параметров, распишем что есть что:\n",
    "\n",
    " - `base_model_class` - класс базовой модели нашего бустинга\n",
    " - `base_model_params` - словарь с гиперпараметрами для базовой модели\n",
    " - `n_estimators` - какое количество базовых моделей нужно обучить\n",
    " - `learning_rate` - темп обучения, должен быть из полуинтервала $(0, 1]$\n",
    " - `subsample` - доля объектов, на которой будет обучаться базовая модель (какую часть составляет бутстрапная выборка от исходной обучающей)\n",
    " - `early_stopping_rounds` - число итераций, после которых при отсутствии улучшения качества на валидационной выборке обучение останавливается\n",
    " - `plot` - строить ли после обучения всех базовых моделей график с качеством\n",
    "\n",
    "#### `fit`\n",
    "\n",
    "В `fit` приходит две выборки, обучающая и валидационная. На обучающей мы обучаем новые базовые модели, на валидационной считаем качество для ранней остановки (если это предусматривают параметры).\n",
    "\n",
    "Сначала нам нужно сделать какую-то нулевую модель, сделать предсказания для обучающей и валидационной выборок (в шаблоне это нулевая модель, соответственно предсказания это просто `np.zeros`). После этого нужно обучить `n_estimators` базовых моделей (как и на что обучаются базовые модели смотрите в лекциях и семинарах). После каждой обученной базовой модели мы должны обновить текущие предсказания, посчитать ошибку на обучающей и валидационной выборках (используем `loss_fn` для этого), проверить на раннюю остановку.\n",
    "\n",
    "После всего цикла обучения надо нарисовать график (если `plot`).\n",
    "\n",
    "\n",
    "#### `fit_new_base_model`\n",
    "\n",
    "В `fit_new_base_model` приходит обучающая выборка (целиком) и текущие предсказания для неё. Мы должны сгенерировать бутстрап выборку для обучения базовой модели и обучить базовую модель. После обучения модели запускаем поиск оптимальной гаммы, добавляем новую модель и гамму (не забываем про темп обучения) в соответствующие списки.\n",
    "\n",
    "#### `predict_proba`\n",
    "\n",
    "В `predict_proba` приходит выборка, нужно предсказать вероятности для неё. Суммируем предсказания базовых моделей на этой выборке (не забываем про гаммы) и накидываем сигмоиду."
   ]
  },
  {
   "cell_type": "code",
   "execution_count": 6,
   "metadata": {
    "pycharm": {
     "name": "#%%\n"
    }
   },
   "outputs": [],
   "source": [
    "%load_ext autoreload"
   ]
  },
  {
   "cell_type": "code",
   "execution_count": 7,
   "metadata": {
    "pycharm": {
     "name": "#%%\n"
    }
   },
   "outputs": [],
   "source": [
    "%autoreload 2\n",
    "\n",
    "from boosting import Boosting"
   ]
  },
  {
   "cell_type": "markdown",
   "metadata": {
    "pycharm": {
     "name": "#%% md\n"
    }
   },
   "source": [
    "### Проверка кода\n",
    "\n",
    "У автора задания всё учится около одной секунды."
   ]
  },
  {
   "cell_type": "code",
   "execution_count": 12,
   "metadata": {
    "pycharm": {
     "name": "#%%\n"
    }
   },
   "outputs": [
    {
     "name": "stdout",
     "output_type": "stream",
     "text": [
      "CPU times: user 815 ms, sys: 38.7 ms, total: 854 ms\n",
      "Wall time: 882 ms\n",
      "Train ROC-AUC 0.9877\n",
      "Valid ROC-AUC 0.9210\n",
      "Test ROC-AUC 0.9235\n"
     ]
    }
   ],
   "source": [
    "boosting = Boosting()\n",
    "\n",
    "%time boosting.fit(x_train, y_train, x_valid, y_valid)\n",
    "\n",
    "assert len(boosting.models) == boosting.n_estimators\n",
    "assert len(boosting.gammas) == boosting.n_estimators\n",
    "\n",
    "assert boosting.predict_proba(x_test).shape == (x_test.shape[0], 2)\n",
    "\n",
    "print(f'Train ROC-AUC {boosting.score(x_train, y_train):.4f}')\n",
    "print(f'Valid ROC-AUC {boosting.score(x_valid, y_valid):.4f}')\n",
    "print(f'Test ROC-AUC {boosting.score(x_test, y_test):.4f}')"
   ]
  },
  {
   "cell_type": "markdown",
   "metadata": {
    "pycharm": {
     "name": "#%% md\n"
    }
   },
   "source": [
    "## Задание 2. Обучение градиентного бустингового (1 балл)\n",
    "\n",
    "Оцените качество на тестовой выборке вашей имплементации бустинга для различной максимальной глубины решающего дерева в качестве базовой модели. Здесь и далее мы будем использовать метрику ROC-AUC.\n",
    "\n",
    "Перебирайте максимальную глубину от 1 до 30 с шагом 2 (остальные параметры бустинга стоит оставить равными по умолчанию). Постройте график зависимости качества на обучающей и тестовой выборке в зависимости от глубины."
   ]
  },
  {
   "cell_type": "code",
   "execution_count": 14,
   "metadata": {
    "pycharm": {
     "name": "#%%\n"
    }
   },
   "outputs": [
    {
     "data": {
      "image/png": "[encoded data removed]",
      "text/plain": [
       "<Figure size 1000x600 with 1 Axes>"
      ]
     },
     "metadata": {},
     "output_type": "display_data"
    }
   ],
   "source": [
    "import matplotlib.pyplot as plt\n",
    "\n",
    "boosting = Boosting()\n",
    "max_depths = list(range(1, 31, 2))\n",
    "train_scores = []\n",
    "test_scores = []\n",
    "\n",
    "for max_depth in max_depths:\n",
    "    boosting.base_model_params['max_depth'] = max_depth\n",
    "    boosting.fit(x_train, y_train, x_valid, y_valid)\n",
    "    \n",
    "    train_auc = boosting.score(x_train, y_train)\n",
    "    test_auc = boosting.score(x_test, y_test)\n",
    "    \n",
    "    train_scores.append(train_auc)\n",
    "    test_scores.append(test_auc)\n",
    "\n",
    "plt.figure(figsize=(10, 6))\n",
    "plt.plot(max_depths, train_scores, label='Train ROC-AUC')\n",
    "plt.plot(max_depths, test_scores, label='Test ROC-AUC')\n",
    "plt.xlabel('Глубина базовой модели')\n",
    "plt.ylabel('ROC-AUC Score')\n",
    "plt.title('Зависимость от глубины')\n",
    "plt.legend()\n",
    "plt.grid(True)\n",
    "plt.show()"
   ]
  },
  {
   "cell_type": "markdown",
   "metadata": {
    "pycharm": {
     "name": "#%% md\n"
    }
   },
   "source": [
    "**Какая из моделей имеет лучшее качество? Как вы можете это объяснить?**\n",
    "\n",
    "Думаю лучшее значения в диапозоне от 5-15, далее идёт спад значений для тестовой выборки, это обусловленно тем, что при небольшой глубине модель недообучена, а при больших переобучается."
   ]
  },
  {
   "cell_type": "markdown",
   "metadata": {
    "pycharm": {
     "name": "#%% md\n"
    }
   },
   "source": [
    "## Задание 3. Подбираем гиперпараметры и ищем лучшую модель (3 балла)\n",
    "\n",
    "Подберите по валидационной выборке основные гиперпараметры для вашей модели бустинга. Следует подобрать все основные параметры для самого градиентного бустинга и для самих базовых моделей. Существуют библиотеки для подбора гиперпараметров, попробуйте использовать какую-нибудь из следующих двух - [Hyperopt](https://github.com/hyperopt/hyperopt), [Optuna](https://optuna.org/)."
   ]
  },
  {
   "cell_type": "code",
   "execution_count": 16,
   "metadata": {},
   "outputs": [
    {
     "name": "stdout",
     "output_type": "stream",
     "text": [
      "Defaulting to user installation because normal site-packages is not writeable\n",
      "Collecting optuna\n",
      "  Downloading optuna-3.5.0-py3-none-any.whl (413 kB)\n",
      "\u001b[2K     \u001b[38;2;114;156;31m━━━━━━━━━━━━━━━━━━━━━━━━━━━━━━━━━━━━━━━\u001b[0m \u001b[32m413.4/413.4 KB\u001b[0m \u001b[31m1.2 MB/s\u001b[0m eta \u001b[36m0:00:00\u001b[0m[31m1.2 MB/s\u001b[0m eta \u001b[36m0:00:01\u001b[0m\n",
      "\u001b[?25hCollecting alembic>=1.5.0\n",
      "  Downloading alembic-1.13.1-py3-none-any.whl (233 kB)\n",
      "\u001b[2K     \u001b[38;2;114;156;31m━━━━━━━━━━━━━━━━━━━━━━━━━━━━━━━━━━━━━━━\u001b[0m \u001b[32m233.4/233.4 KB\u001b[0m \u001b[31m4.6 MB/s\u001b[0m eta \u001b[36m0:00:00\u001b[0m[31m6.7 MB/s\u001b[0m eta \u001b[36m0:00:01\u001b[0m\n",
      "\u001b[?25hCollecting sqlalchemy>=1.3.0\n",
      "  Downloading SQLAlchemy-2.0.23-cp310-cp310-manylinux_2_17_x86_64.manylinux2014_x86_64.whl (3.0 MB)\n",
      "\u001b[2K     \u001b[38;2;114;156;31m━━━━━━━━━━━━━━━━━━━━━━━━━━━━━━━━━━━━━━━━\u001b[0m \u001b[32m3.0/3.0 MB\u001b[0m \u001b[31m5.3 MB/s\u001b[0m eta \u001b[36m0:00:00\u001b[0m[36m0:00:01\u001b[0mm eta \u001b[36m0:00:01\u001b[0m\n",
      "\u001b[?25hRequirement already satisfied: numpy in /home/nik/.local/lib/python3.10/site-packages (from optuna) (1.25.2)\n",
      "Requirement already satisfied: tqdm in /home/nik/.local/lib/python3.10/site-packages (from optuna) (4.66.1)\n",
      "Requirement already satisfied: PyYAML in /usr/lib/python3/dist-packages (from optuna) (5.4.1)\n",
      "Requirement already satisfied: packaging>=20.0 in /home/nik/.local/lib/python3.10/site-packages (from optuna) (23.2)\n",
      "Collecting colorlog\n",
      "  Downloading colorlog-6.8.0-py3-none-any.whl (11 kB)\n",
      "Requirement already satisfied: Mako in /usr/lib/python3/dist-packages (from alembic>=1.5.0->optuna) (1.1.3)\n",
      "Requirement already satisfied: typing-extensions>=4 in /home/nik/.local/lib/python3.10/site-packages (from alembic>=1.5.0->optuna) (4.7.1)\n",
      "Collecting greenlet!=0.4.17\n",
      "  Downloading greenlet-3.0.2-cp310-cp310-manylinux_2_24_x86_64.manylinux_2_28_x86_64.whl (613 kB)\n",
      "\u001b[2K     \u001b[38;2;114;156;31m━━━━━━━━━━━━━━━━━━━━━━━━━━━━━━━━━━━━━━━\u001b[0m \u001b[32m613.4/613.4 KB\u001b[0m \u001b[31m5.2 MB/s\u001b[0m eta \u001b[36m0:00:00\u001b[0m[36m0:00:01\u001b[0m[36m0:00:01\u001b[0m\n",
      "\u001b[?25hInstalling collected packages: greenlet, colorlog, sqlalchemy, alembic, optuna\n",
      "Successfully installed alembic-1.13.1 colorlog-6.8.0 greenlet-3.0.2 optuna-3.5.0 sqlalchemy-2.0.23\n"
     ]
    }
   ],
   "source": [
    "!pip install optuna"
   ]
  },
  {
   "cell_type": "code",
   "execution_count": 11,
   "metadata": {
    "pycharm": {
     "is_executing": true,
     "name": "#%%\n"
    }
   },
   "outputs": [
    {
     "name": "stderr",
     "output_type": "stream",
     "text": [
      "[I 2023-12-23 20:33:41,146] A new study created in memory with name: no-name-db02c57b-fdc7-4cec-8323-bf5e3a033f61\n"
     ]
    },
    {
     "name": "stderr",
     "output_type": "stream",
     "text": [
      "[I 2023-12-23 20:33:42,235] Trial 0 finished with value: 0.9332999689503709 and parameters: {'max_depth': 15, 'min_samples_split': 14, 'min_samples_leaf': 9, 'n_estimators': 100, 'learning_rate': 0.027939960337714436, 'subsample': 0.47193410253913004, 'early_stopping_rounds': 10}. Best is trial 0 with value: 0.9332999689503709.\n",
      "[I 2023-12-23 20:33:43,985] Trial 1 finished with value: 0.9333279056346696 and parameters: {'max_depth': 15, 'min_samples_split': 5, 'min_samples_leaf': 17, 'n_estimators': 37, 'learning_rate': 0.07592283648003775, 'subsample': 0.1506113014781168, 'early_stopping_rounds': 100}. Best is trial 1 with value: 0.9333279056346696.\n",
      "[I 2023-12-23 20:33:52,133] Trial 2 finished with value: 0.9387731644999773 and parameters: {'max_depth': 23, 'min_samples_split': 11, 'min_samples_leaf': 4, 'n_estimators': 87, 'learning_rate': 0.010553587526712536, 'subsample': 0.596115852690965, 'early_stopping_rounds': 60}. Best is trial 2 with value: 0.9387731644999773.\n",
      "[I 2023-12-23 20:33:52,688] Trial 3 finished with value: 0.9308391461591448 and parameters: {'max_depth': 7, 'min_samples_split': 19, 'min_samples_leaf': 2, 'n_estimators': 70, 'learning_rate': 0.013310632769709157, 'subsample': 0.11058147838522021, 'early_stopping_rounds': 10}. Best is trial 2 with value: 0.9387731644999773.\n",
      "[I 2023-12-23 20:33:55,897] Trial 4 finished with value: 0.936257266531134 and parameters: {'max_depth': 17, 'min_samples_split': 20, 'min_samples_leaf': 3, 'n_estimators': 72, 'learning_rate': 0.036211504081967355, 'subsample': 0.10567116887015365, 'early_stopping_rounds': 80}. Best is trial 2 with value: 0.9387731644999773.\n",
      "[I 2023-12-23 20:33:58,833] Trial 5 finished with value: 0.8253478316742934 and parameters: {'max_depth': 1, 'min_samples_split': 17, 'min_samples_leaf': 4, 'n_estimators': 80, 'learning_rate': 0.09010722007014714, 'subsample': 0.7456980490694302, 'early_stopping_rounds': 70}. Best is trial 2 with value: 0.9387731644999773.\n",
      "[I 2023-12-23 20:34:01,574] Trial 6 finished with value: 0.9338295686655764 and parameters: {'max_depth': 15, 'min_samples_split': 18, 'min_samples_leaf': 8, 'n_estimators': 15, 'learning_rate': 0.0832292420707453, 'subsample': 0.958564106049126, 'early_stopping_rounds': 90}. Best is trial 2 with value: 0.9387731644999773.\n",
      "[I 2023-12-23 20:34:02,162] Trial 7 finished with value: 0.9353585034876954 and parameters: {'max_depth': 11, 'min_samples_split': 13, 'min_samples_leaf': 8, 'n_estimators': 64, 'learning_rate': 0.01567125560285867, 'subsample': 0.16354194736404343, 'early_stopping_rounds': 10}. Best is trial 2 with value: 0.9387731644999773.\n",
      "[I 2023-12-23 20:34:04,878] Trial 8 finished with value: 0.9285219977443123 and parameters: {'max_depth': 5, 'min_samples_split': 20, 'min_samples_leaf': 14, 'n_estimators': 51, 'learning_rate': 0.07566646361213501, 'subsample': 0.5130386390227525, 'early_stopping_rounds': 50}. Best is trial 2 with value: 0.9387731644999773.\n",
      "[I 2023-12-23 20:34:07,207] Trial 9 finished with value: 0.9356366730442126 and parameters: {'max_depth': 25, 'min_samples_split': 16, 'min_samples_leaf': 2, 'n_estimators': 14, 'learning_rate': 0.018452424574903314, 'subsample': 0.7540794383645959, 'early_stopping_rounds': 20}. Best is trial 2 with value: 0.9387731644999773.\n",
      "[I 2023-12-23 20:34:10,912] Trial 10 finished with value: 0.9371544331926123 and parameters: {'max_depth': 25, 'min_samples_split': 8, 'min_samples_leaf': 13, 'n_estimators': 99, 'learning_rate': 0.010390970513454846, 'subsample': 0.342154714947292, 'early_stopping_rounds': 50}. Best is trial 2 with value: 0.9387731644999773.\n",
      "[I 2023-12-23 20:34:14,645] Trial 11 finished with value: 0.9379206965333768 and parameters: {'max_depth': 25, 'min_samples_split': 8, 'min_samples_leaf': 13, 'n_estimators': 100, 'learning_rate': 0.01054635337004503, 'subsample': 0.36535963879923694, 'early_stopping_rounds': 50}. Best is trial 2 with value: 0.9387731644999773.\n",
      "[I 2023-12-23 20:34:17,451] Trial 12 finished with value: 0.9368283721772974 and parameters: {'max_depth': 21, 'min_samples_split': 9, 'min_samples_leaf': 20, 'n_estimators': 87, 'learning_rate': 0.010106383469754543, 'subsample': 0.3597306582261851, 'early_stopping_rounds': 40}. Best is trial 2 with value: 0.9387731644999773.\n",
      "[I 2023-12-23 20:34:26,609] Trial 13 finished with value: 0.9385293171555986 and parameters: {'max_depth': 21, 'min_samples_split': 2, 'min_samples_leaf': 12, 'n_estimators': 91, 'learning_rate': 0.026322177093133014, 'subsample': 0.6629710143638095, 'early_stopping_rounds': 70}. Best is trial 2 with value: 0.9387731644999773.\n",
      "[I 2023-12-23 20:34:36,914] Trial 14 finished with value: 0.9362217470325255 and parameters: {'max_depth': 21, 'min_samples_split': 2, 'min_samples_leaf': 6, 'n_estimators': 83, 'learning_rate': 0.026137986487982358, 'subsample': 0.6948782829937898, 'early_stopping_rounds': 70}. Best is trial 2 with value: 0.9387731644999773.\n",
      "[I 2023-12-23 20:34:42,770] Trial 15 finished with value: 0.9386075398716349 and parameters: {'max_depth': 21, 'min_samples_split': 2, 'min_samples_leaf': 11, 'n_estimators': 48, 'learning_rate': 0.04504976256363664, 'subsample': 0.6311256555175093, 'early_stopping_rounds': 70}. Best is trial 2 with value: 0.9387731644999773.\n",
      "[I 2023-12-23 20:34:47,814] Trial 16 finished with value: 0.9364268821143761 and parameters: {'max_depth': 19, 'min_samples_split': 5, 'min_samples_leaf': 16, 'n_estimators': 46, 'learning_rate': 0.047704493018104824, 'subsample': 0.8901977173604252, 'early_stopping_rounds': 30}. Best is trial 2 with value: 0.9387731644999773.\n",
      "[I 2023-12-23 20:34:51,783] Trial 17 finished with value: 0.9383577060949065 and parameters: {'max_depth': 23, 'min_samples_split': 11, 'min_samples_leaf': 10, 'n_estimators': 35, 'learning_rate': 0.0502867304192232, 'subsample': 0.5866819390845965, 'early_stopping_rounds': 60}. Best is trial 2 with value: 0.9387731644999773.\n",
      "[I 2023-12-23 20:34:59,470] Trial 18 finished with value: 0.9368794564000149 and parameters: {'max_depth': 11, 'min_samples_split': 5, 'min_samples_leaf': 6, 'n_estimators': 59, 'learning_rate': 0.050086422110535246, 'subsample': 0.8496535308573994, 'early_stopping_rounds': 90}. Best is trial 2 with value: 0.9387731644999773.\n",
      "[I 2023-12-23 20:35:04,439] Trial 19 finished with value: 0.9372949148050858 and parameters: {'max_depth': 19, 'min_samples_split': 10, 'min_samples_leaf': 5, 'n_estimators': 38, 'learning_rate': 0.0210294775471503, 'subsample': 0.5956965977908154, 'early_stopping_rounds': 60}. Best is trial 2 with value: 0.9387731644999773.\n",
      "[I 2023-12-23 20:35:06,467] Trial 20 finished with value: 0.9371213082669438 and parameters: {'max_depth': 19, 'min_samples_split': 13, 'min_samples_leaf': 20, 'n_estimators': 25, 'learning_rate': 0.03968142590086237, 'subsample': 0.4481542577798364, 'early_stopping_rounds': 40}. Best is trial 2 with value: 0.9387731644999773.\n",
      "[I 2023-12-23 20:35:15,579] Trial 21 finished with value: 0.9375431521998543 and parameters: {'max_depth': 21, 'min_samples_split': 2, 'min_samples_leaf': 11, 'n_estimators': 89, 'learning_rate': 0.06044268376856945, 'subsample': 0.6653406198487317, 'early_stopping_rounds': 70}. Best is trial 2 with value: 0.9387731644999773.\n",
      "[I 2023-12-23 20:35:23,655] Trial 22 finished with value: 0.9388709428950228 and parameters: {'max_depth': 23, 'min_samples_split': 4, 'min_samples_leaf': 11, 'n_estimators': 66, 'learning_rate': 0.02198411801071355, 'subsample': 0.6342856237740948, 'early_stopping_rounds': 80}. Best is trial 22 with value: 0.9388709428950228.\n",
      "[I 2023-12-23 20:35:34,747] Trial 23 finished with value: 0.9380480079946808 and parameters: {'max_depth': 23, 'min_samples_split': 4, 'min_samples_leaf': 15, 'n_estimators': 74, 'learning_rate': 0.019986359458886216, 'subsample': 0.7921697672976143, 'early_stopping_rounds': 80}. Best is trial 22 with value: 0.9388709428950228.\n",
      "[I 2023-12-23 20:35:40,791] Trial 24 finished with value: 0.9377498836636646 and parameters: {'max_depth': 23, 'min_samples_split': 7, 'min_samples_leaf': 18, 'n_estimators': 60, 'learning_rate': 0.013976048157030895, 'subsample': 0.5637712095096291, 'early_stopping_rounds': 80}. Best is trial 22 with value: 0.9388709428950228.\n",
      "[I 2023-12-23 20:35:47,176] Trial 25 finished with value: 0.9372019255559201 and parameters: {'max_depth': 25, 'min_samples_split': 4, 'min_samples_leaf': 8, 'n_estimators': 48, 'learning_rate': 0.04143616296602883, 'subsample': 0.631174929953736, 'early_stopping_rounds': 100}. Best is trial 22 with value: 0.9388709428950228.\n",
      "[I 2023-12-23 20:35:53,094] Trial 26 finished with value: 0.9390229982767057 and parameters: {'max_depth': 17, 'min_samples_split': 7, 'min_samples_leaf': 11, 'n_estimators': 65, 'learning_rate': 0.031433230811396394, 'subsample': 0.5068992217335755, 'early_stopping_rounds': 60}. Best is trial 26 with value: 0.9390229982767057.\n",
      "[I 2023-12-23 20:35:59,025] Trial 27 finished with value: 0.9393945561778785 and parameters: {'max_depth': 17, 'min_samples_split': 7, 'min_samples_leaf': 6, 'n_estimators': 65, 'learning_rate': 0.03231180954195897, 'subsample': 0.41747894893965043, 'early_stopping_rounds': 60}. Best is trial 27 with value: 0.9393945561778785.\n",
      "[I 2023-12-23 20:36:02,399] Trial 28 finished with value: 0.937656495319009 and parameters: {'max_depth': 13, 'min_samples_split': 7, 'min_samples_leaf': 7, 'n_estimators': 66, 'learning_rate': 0.03270984258939395, 'subsample': 0.42791613384264643, 'early_stopping_rounds': 40}. Best is trial 27 with value: 0.9393945561778785.\n",
      "[I 2023-12-23 20:36:05,834] Trial 29 finished with value: 0.9373914959136612 and parameters: {'max_depth': 17, 'min_samples_split': 6, 'min_samples_leaf': 10, 'n_estimators': 57, 'learning_rate': 0.02912552310588259, 'subsample': 0.27922725892627603, 'early_stopping_rounds': 90}. Best is trial 27 with value: 0.9393945561778785.\n",
      "[I 2023-12-23 20:36:11,143] Trial 30 finished with value: 0.9381777140289248 and parameters: {'max_depth': 13, 'min_samples_split': 4, 'min_samples_leaf': 9, 'n_estimators': 75, 'learning_rate': 0.02396307174165585, 'subsample': 0.5064160422578936, 'early_stopping_rounds': 60}. Best is trial 27 with value: 0.9393945561778785.\n",
      "[I 2023-12-23 20:36:17,469] Trial 31 finished with value: 0.9393107461249823 and parameters: {'max_depth': 17, 'min_samples_split': 11, 'min_samples_leaf': 4, 'n_estimators': 65, 'learning_rate': 0.03242217607996102, 'subsample': 0.48521328641160494, 'early_stopping_rounds': 60}. Best is trial 27 with value: 0.9393945561778785.\n",
      "[I 2023-12-23 20:36:20,828] Trial 32 finished with value: 0.937334026163104 and parameters: {'max_depth': 17, 'min_samples_split': 10, 'min_samples_leaf': 6, 'n_estimators': 68, 'learning_rate': 0.03212258807076185, 'subsample': 0.27275404448099017, 'early_stopping_rounds': 50}. Best is trial 27 with value: 0.9393945561778785.\n",
      "[I 2023-12-23 20:36:25,996] Trial 33 finished with value: 0.9403364215342348 and parameters: {'max_depth': 15, 'min_samples_split': 15, 'min_samples_leaf': 4, 'n_estimators': 55, 'learning_rate': 0.02281269332816509, 'subsample': 0.4919863883603741, 'early_stopping_rounds': 60}. Best is trial 33 with value: 0.9403364215342348.\n",
      "[I 2023-12-23 20:36:30,433] Trial 34 finished with value: 0.9399500970999326 and parameters: {'max_depth': 15, 'min_samples_split': 15, 'min_samples_leaf': 4, 'n_estimators': 53, 'learning_rate': 0.03560304342128567, 'subsample': 0.4050332654961656, 'early_stopping_rounds': 60}. Best is trial 33 with value: 0.9403364215342348.\n",
      "[I 2023-12-23 20:36:34,599] Trial 35 finished with value: 0.9399752401158015 and parameters: {'max_depth': 15, 'min_samples_split': 15, 'min_samples_leaf': 4, 'n_estimators': 53, 'learning_rate': 0.03590157903658619, 'subsample': 0.39939430784936564, 'early_stopping_rounds': 60}. Best is trial 33 with value: 0.9403364215342348.\n",
      "[I 2023-12-23 20:36:37,524] Trial 36 finished with value: 0.9393945561778785 and parameters: {'max_depth': 11, 'min_samples_split': 15, 'min_samples_leaf': 3, 'n_estimators': 42, 'learning_rate': 0.037526552598391084, 'subsample': 0.4081138957969416, 'early_stopping_rounds': 40}. Best is trial 33 with value: 0.9403364215342348.\n",
      "[I 2023-12-23 20:36:39,444] Trial 37 finished with value: 0.9392895940640134 and parameters: {'max_depth': 15, 'min_samples_split': 14, 'min_samples_leaf': 2, 'n_estimators': 54, 'learning_rate': 0.06659735458430521, 'subsample': 0.28774707464372873, 'early_stopping_rounds': 30}. Best is trial 33 with value: 0.9403364215342348.\n",
      "[I 2023-12-23 20:36:41,440] Trial 38 finished with value: 0.936081265420052 and parameters: {'max_depth': 9, 'min_samples_split': 17, 'min_samples_leaf': 5, 'n_estimators': 32, 'learning_rate': 0.017919364996408223, 'subsample': 0.40379509849342704, 'early_stopping_rounds': 50}. Best is trial 33 with value: 0.9403364215342348.\n",
      "[I 2023-12-23 20:36:44,904] Trial 39 finished with value: 0.9399117839328945 and parameters: {'max_depth': 15, 'min_samples_split': 13, 'min_samples_leaf': 4, 'n_estimators': 54, 'learning_rate': 0.05538177854666664, 'subsample': 0.24248017853675835, 'early_stopping_rounds': 60}. Best is trial 33 with value: 0.9403364215342348.\n",
      "[I 2023-12-23 20:36:47,673] Trial 40 finished with value: 0.9394512277374559 and parameters: {'max_depth': 13, 'min_samples_split': 13, 'min_samples_leaf': 3, 'n_estimators': 53, 'learning_rate': 0.09966985082555901, 'subsample': 0.15609052177493316, 'early_stopping_rounds': 70}. Best is trial 33 with value: 0.9403364215342348.\n",
      "[I 2023-12-23 20:36:50,602] Trial 41 finished with value: 0.9390980282288222 and parameters: {'max_depth': 13, 'min_samples_split': 13, 'min_samples_leaf': 3, 'n_estimators': 53, 'learning_rate': 0.06361251820591064, 'subsample': 0.20490107746288652, 'early_stopping_rounds': 70}. Best is trial 33 with value: 0.9403364215342348.\n",
      "[I 2023-12-23 20:36:52,986] Trial 42 finished with value: 0.9388968841018716 and parameters: {'max_depth': 15, 'min_samples_split': 15, 'min_samples_leaf': 4, 'n_estimators': 44, 'learning_rate': 0.0702403159642982, 'subsample': 0.19551765682396754, 'early_stopping_rounds': 70}. Best is trial 33 with value: 0.9403364215342348.\n",
      "[I 2023-12-23 20:36:56,135] Trial 43 finished with value: 0.9391379377778203 and parameters: {'max_depth': 15, 'min_samples_split': 14, 'min_samples_leaf': 3, 'n_estimators': 60, 'learning_rate': 0.09813759648406178, 'subsample': 0.23525328372983487, 'early_stopping_rounds': 50}. Best is trial 33 with value: 0.9403364215342348.\n",
      "[I 2023-12-23 20:36:58,721] Trial 44 finished with value: 0.9354874113309596 and parameters: {'max_depth': 9, 'min_samples_split': 12, 'min_samples_leaf': 5, 'n_estimators': 50, 'learning_rate': 0.08333097644359382, 'subsample': 0.13247073942564513, 'early_stopping_rounds': 80}. Best is trial 33 with value: 0.9403364215342348.\n",
      "[I 2023-12-23 20:37:02,660] Trial 45 finished with value: 0.940675652700719 and parameters: {'max_depth': 15, 'min_samples_split': 16, 'min_samples_leaf': 2, 'n_estimators': 56, 'learning_rate': 0.04269092129618154, 'subsample': 0.32560453320937927, 'early_stopping_rounds': 60}. Best is trial 45 with value: 0.940675652700719.\n",
      "[I 2023-12-23 20:37:05,454] Trial 46 finished with value: 0.9404010750036118 and parameters: {'max_depth': 15, 'min_samples_split': 18, 'min_samples_leaf': 2, 'n_estimators': 41, 'learning_rate': 0.05544240873566112, 'subsample': 0.3145615956202854, 'early_stopping_rounds': 60}. Best is trial 45 with value: 0.940675652700719.\n",
      "[I 2023-12-23 20:37:08,032] Trial 47 finished with value: 0.9387212820862796 and parameters: {'max_depth': 11, 'min_samples_split': 18, 'min_samples_leaf': 2, 'n_estimators': 41, 'learning_rate': 0.04364864828805856, 'subsample': 0.32811098772261893, 'early_stopping_rounds': 50}. Best is trial 45 with value: 0.940675652700719.\n",
      "[I 2023-12-23 20:37:09,158] Trial 48 finished with value: 0.8244877808933834 and parameters: {'max_depth': 1, 'min_samples_split': 19, 'min_samples_leaf': 2, 'n_estimators': 28, 'learning_rate': 0.03636078206279285, 'subsample': 0.3226701494476075, 'early_stopping_rounds': 60}. Best is trial 45 with value: 0.940675652700719.\n",
      "[I 2023-12-23 20:37:12,159] Trial 49 finished with value: 0.9392704374804941 and parameters: {'max_depth': 13, 'min_samples_split': 16, 'min_samples_leaf': 5, 'n_estimators': 40, 'learning_rate': 0.05412374608664643, 'subsample': 0.38439496090095915, 'early_stopping_rounds': 50}. Best is trial 45 with value: 0.940675652700719.\n"
     ]
    },
    {
     "name": "stdout",
     "output_type": "stream",
     "text": [
      "Best Hyperparameters: {'max_depth': 15, 'min_samples_split': 16, 'min_samples_leaf': 2, 'n_estimators': 56, 'learning_rate': 0.04269092129618154, 'subsample': 0.32560453320937927, 'early_stopping_rounds': 60}\n",
      "Train ROC-AUC 0.9806\n",
      "Valid ROC-AUC 0.9407\n",
      "Test ROC-AUC 0.9383\n"
     ]
    }
   ],
   "source": [
    "import optuna\n",
    "\n",
    "def objective(trial):\n",
    "    base_model_params = {\n",
    "        'max_depth': trial.suggest_int('max_depth', 1, 25, step=2),\n",
    "        'min_samples_split': trial.suggest_int('min_samples_split', 2, 20),\n",
    "        'min_samples_leaf': trial.suggest_int('min_samples_leaf', 2, 20),\n",
    "    }\n",
    "\n",
    "    boosting_params = {\n",
    "        'n_estimators': trial.suggest_int('n_estimators', 10, 100),\n",
    "        'learning_rate': trial.suggest_loguniform('learning_rate', 0.01, 0.1),\n",
    "        'subsample': trial.suggest_uniform('subsample', 0.1, 1.0),\n",
    "        'early_stopping_rounds': trial.suggest_int(\"early_stopping_rounds\", 10, 100, step=10)\n",
    "    }\n",
    "\n",
    "    boosting = Boosting(base_model_params=base_model_params, **boosting_params)\n",
    "\n",
    "    boosting.fit(x_train, y_train, x_valid, y_valid)\n",
    "\n",
    "    return boosting.score(x_valid, y_valid)\n",
    "\n",
    "study = optuna.create_study(direction='maximize')\n",
    "study.optimize(objective, n_trials=50)\n",
    "\n",
    "best_params = study.best_params\n",
    "print(f\"Best Hyperparameters: {best_params}\")\n",
    "\n",
    "best_params = {\"base_model_params\": {'max_depth': best_params['max_depth'], 'min_samples_split': best_params['min_samples_split'], 'min_samples_leaf': best_params['min_samples_leaf']}, 'n_estimators': best_params['n_estimators'], 'learning_rate': best_params['learning_rate'], 'subsample': best_params['subsample'], 'early_stopping_rounds': best_params['early_stopping_rounds']}\n",
    "\n",
    "best_boosting = Boosting(**best_params)\n",
    "best_boosting.fit(x_train, y_train, x_valid, y_valid)\n",
    "\n",
    "\n",
    "print(f'Train ROC-AUC {best_boosting.score(x_train, y_train):.4f}')\n",
    "print(f'Valid ROC-AUC {best_boosting.score(x_valid, y_valid):.4f}')\n",
    "print(f'Test ROC-AUC {best_boosting.score(x_test, y_test):.4f}')\n"
   ]
  },
  {
   "cell_type": "markdown",
   "metadata": {
    "pycharm": {
     "name": "#%% md\n"
    }
   },
   "source": [
    "## Задание 4. Интерпретация бустингового (2 балл)\n",
    "\n",
    "Постройте калибровочную кривую для вашей лучшей модели бустинга. Насколько хорошо бустинг оценивает вероятности? Постройте также калибровочную кривую для логистической регрессии, сравните их между собой. Проанализируйте полученные результаты."
   ]
  },
  {
   "cell_type": "code",
   "execution_count": 12,
   "metadata": {
    "pycharm": {
     "name": "#%%\n"
    }
   },
   "outputs": [
    {
     "data": {
      "text/html": [
       "<style>#sk-container-id-1 {color: black;}#sk-container-id-1 pre{padding: 0;}#sk-container-id-1 div.sk-toggleable {background-color: white;}#sk-container-id-1 label.sk-toggleable__label {cursor: pointer;display: block;width: 100%;margin-bottom: 0;padding: 0.3em;box-sizing: border-box;text-align: center;}#sk-container-id-1 label.sk-toggleable__label-arrow:before {content: \"▸\";float: left;margin-right: 0.25em;color: #696969;}#sk-container-id-1 label.sk-toggleable__label-arrow:hover:before {color: black;}#sk-container-id-1 div.sk-estimator:hover label.sk-toggleable__label-arrow:before {color: black;}#sk-container-id-1 div.sk-toggleable__content {max-height: 0;max-width: 0;overflow: hidden;text-align: left;background-color: #f0f8ff;}#sk-container-id-1 div.sk-toggleable__content pre {margin: 0.2em;color: black;border-radius: 0.25em;background-color: #f0f8ff;}#sk-container-id-1 input.sk-toggleable__control:checked~div.sk-toggleable__content {max-height: 200px;max-width: 100%;overflow: auto;}#sk-container-id-1 input.sk-toggleable__control:checked~label.sk-toggleable__label-arrow:before {content: \"▾\";}#sk-container-id-1 div.sk-estimator input.sk-toggleable__control:checked~label.sk-toggleable__label {background-color: #d4ebff;}#sk-container-id-1 div.sk-label input.sk-toggleable__control:checked~label.sk-toggleable__label {background-color: #d4ebff;}#sk-container-id-1 input.sk-hidden--visually {border: 0;clip: rect(1px 1px 1px 1px);clip: rect(1px, 1px, 1px, 1px);height: 1px;margin: -1px;overflow: hidden;padding: 0;position: absolute;width: 1px;}#sk-container-id-1 div.sk-estimator {font-family: monospace;background-color: #f0f8ff;border: 1px dotted black;border-radius: 0.25em;box-sizing: border-box;margin-bottom: 0.5em;}#sk-container-id-1 div.sk-estimator:hover {background-color: #d4ebff;}#sk-container-id-1 div.sk-parallel-item::after {content: \"\";width: 100%;border-bottom: 1px solid gray;flex-grow: 1;}#sk-container-id-1 div.sk-label:hover label.sk-toggleable__label {background-color: #d4ebff;}#sk-container-id-1 div.sk-serial::before {content: \"\";position: absolute;border-left: 1px solid gray;box-sizing: border-box;top: 0;bottom: 0;left: 50%;z-index: 0;}#sk-container-id-1 div.sk-serial {display: flex;flex-direction: column;align-items: center;background-color: white;padding-right: 0.2em;padding-left: 0.2em;position: relative;}#sk-container-id-1 div.sk-item {position: relative;z-index: 1;}#sk-container-id-1 div.sk-parallel {display: flex;align-items: stretch;justify-content: center;background-color: white;position: relative;}#sk-container-id-1 div.sk-item::before, #sk-container-id-1 div.sk-parallel-item::before {content: \"\";position: absolute;border-left: 1px solid gray;box-sizing: border-box;top: 0;bottom: 0;left: 50%;z-index: -1;}#sk-container-id-1 div.sk-parallel-item {display: flex;flex-direction: column;z-index: 1;position: relative;background-color: white;}#sk-container-id-1 div.sk-parallel-item:first-child::after {align-self: flex-end;width: 50%;}#sk-container-id-1 div.sk-parallel-item:last-child::after {align-self: flex-start;width: 50%;}#sk-container-id-1 div.sk-parallel-item:only-child::after {width: 0;}#sk-container-id-1 div.sk-dashed-wrapped {border: 1px dashed gray;margin: 0 0.4em 0.5em 0.4em;box-sizing: border-box;padding-bottom: 0.4em;background-color: white;}#sk-container-id-1 div.sk-label label {font-family: monospace;font-weight: bold;display: inline-block;line-height: 1.2em;}#sk-container-id-1 div.sk-label-container {text-align: center;}#sk-container-id-1 div.sk-container {/* jupyter's `normalize.less` sets `[hidden] { display: none; }` but bootstrap.min.css set `[hidden] { display: none !important; }` so we also need the `!important` here to be able to override the default hidden behavior on the sphinx rendered scikit-learn.org. See: https://github.com/scikit-learn/scikit-learn/issues/21755 */display: inline-block !important;position: relative;}#sk-container-id-1 div.sk-text-repr-fallback {display: none;}</style><div id=\"sk-container-id-1\" class=\"sk-top-container\"><div class=\"sk-text-repr-fallback\"><pre>LogisticRegression()</pre><b>In a Jupyter environment, please rerun this cell to show the HTML representation or trust the notebook. <br />On GitHub, the HTML representation is unable to render, please try loading this page with nbviewer.org.</b></div><div class=\"sk-container\" hidden><div class=\"sk-item\"><div class=\"sk-estimator sk-toggleable\"><input class=\"sk-toggleable__control sk-hidden--visually\" id=\"sk-estimator-id-1\" type=\"checkbox\" checked><label for=\"sk-estimator-id-1\" class=\"sk-toggleable__label sk-toggleable__label-arrow\">LogisticRegression</label><div class=\"sk-toggleable__content\"><pre>LogisticRegression()</pre></div></div></div></div></div>"
      ],
      "text/plain": [
       "LogisticRegression()"
      ]
     },
     "execution_count": 12,
     "metadata": {},
     "output_type": "execute_result"
    }
   ],
   "source": [
    "from sklearn.calibration import calibration_curve\n",
    "import matplotlib.pyplot as plt\n",
    "from sklearn.linear_model import LogisticRegression\n",
    "\n",
    "\n",
    "logreg = LogisticRegression()\n",
    "logreg.fit(x_train, y_train)"
   ]
  },
  {
   "cell_type": "code",
   "execution_count": 14,
   "metadata": {},
   "outputs": [],
   "source": [
    "# Из 4 ДЗ\n",
    "def plot_calibration_curve(y_test, preds):\n",
    "    bin_middle_points = []\n",
    "    bin_real_ratios = []\n",
    "    n_bins = 10\n",
    "    for i in range(n_bins):\n",
    "        l = 1.0 / n_bins * i\n",
    "        r = 1.0 / n_bins * (i + 1)\n",
    "        bin_middle_points.append((l + r) / 2)\n",
    "        bin_real_ratios.append(np.mean(y_test[(preds >= l) & (preds <= r)]))\n",
    "    plt.figure(figsize=(6,6))\n",
    "    plt.plot(bin_middle_points, bin_real_ratios)\n",
    "    plt.ylim([-0.05, 1.05])\n",
    "    plt.grid()\n"
   ]
  },
  {
   "cell_type": "markdown",
   "metadata": {
    "pycharm": {
     "name": "#%% md\n"
    }
   },
   "source": [
    "Теперь попробуем оценить важность признаков для бустинга.\n",
    "\n",
    "Поскольку наша базовая модель - это дерево из `sklearn`, мы можем вычислить важность признака отдельно для каждого дерева и усреднить (воспользуйтесь `feature_importances_` у `DecisionTreeRegressor`), после этого нормировать значения, чтобы они суммировались в единицу (обратите внимание, что они должны быть неотрицательными - иначе вы что-то сделали не так).\n",
    "\n",
    "Допишите в вашей реализации бустинга функцию `feature_importances_` чтобы она возвращала описанные выше важности признаков.\n",
    "\n",
    "Нарисуйте столбчатую диаграмму важности признаков. На соседнем графике нарисуйте важность признаков для логистической регрессии, для этого используйте модули весов. Сравните графики. Проанализируйте полученные результаты."
   ]
  },
  {
   "cell_type": "code",
   "execution_count": null,
   "metadata": {
    "pycharm": {
     "name": "#%%\n"
    }
   },
   "outputs": [],
   "source": [
    "# YOUR CODE:"
   ]
  },
  {
   "cell_type": "markdown",
   "metadata": {
    "pycharm": {
     "name": "#%% md\n"
    }
   },
   "source": [
    "Кстати, чаще всего излишние признаки могут вредить качеству бустинга. Попробуйте отфильтровать на основании диаграммы хвост наименее важных признаков и снова обучить модель (с теми же гиперпараметрами). Стало ли лучше?"
   ]
  },
  {
   "cell_type": "code",
   "execution_count": null,
   "metadata": {
    "pycharm": {
     "name": "#%%\n"
    }
   },
   "outputs": [],
   "source": [
    "# YOUR CODE:"
   ]
  },
  {
   "cell_type": "markdown",
   "metadata": {
    "pycharm": {
     "name": "#%% md\n"
    }
   },
   "source": [
    "## Задание 5 (бонус). Блендинговое (1 балл)\n",
    "\n",
    "Реализуйте блендинг над вашей лучшей моделью и логистической регрессией. Улучшилось ли качество?"
   ]
  },
  {
   "cell_type": "code",
   "execution_count": null,
   "metadata": {
    "pycharm": {
     "name": "#%%\n"
    }
   },
   "outputs": [],
   "source": [
    "# YOUR CODE:"
   ]
  },
  {
   "cell_type": "markdown",
   "metadata": {
    "collapsed": false,
    "pycharm": {
     "name": "#%% md\n"
    }
   },
   "source": [
    "## Задание 6 (бонус). Катбустовое (1 балл)\n",
    "\n",
    "Запустите [CatBoost](https://catboost.ai/en/docs/concepts/python-quickstart) на наших данных, сравните с вашей реализацией. Где получилось лучше?"
   ]
  },
  {
   "cell_type": "code",
   "execution_count": null,
   "metadata": {
    "collapsed": false,
    "pycharm": {
     "name": "#%%\n"
    }
   },
   "outputs": [],
   "source": [
    "# YOUR CODE:"
   ]
  },
  {
   "cell_type": "markdown",
   "metadata": {
    "collapsed": false,
    "pycharm": {
     "name": "#%% md\n"
    }
   },
   "source": [
    "## Социализационный бонус. Новогоднее 🎆 (0.5 балла)\n",
    "\n",
    "Сфотографируйтесь с наряженной новогодней или рождественской ёлкой! Приложите фотографию, опишите свои впечатления, чего вы ждете от нового 2024 года?"
   ]
  },
  {
   "cell_type": "markdown",
   "metadata": {},
   "source": []
  }
 ],
 "metadata": {
  "kernelspec": {
   "display_name": "Python 3 (ipykernel)",
   "language": "python",
   "name": "python3"
  },
  "language_info": {
   "codemirror_mode": {
    "name": "ipython",
    "version": 3
   },
   "file_extension": ".py",
   "mimetype": "text/x-python",
   "name": "python",
   "nbconvert_exporter": "python",
   "pygments_lexer": "ipython3",
   "version": "3.10.12"
  },
  "nbTranslate": {
   "displayLangs": [
    "*"
   ],
   "hotkey": "alt-t",
   "langInMainMenu": true,
   "sourceLang": "en",
   "targetLang": "fr",
   "useGoogleTranslate": true
  },
  "toc": {
   "base_numbering": 1,
   "nav_menu": {
    "height": "210px",
    "width": "492px"
   },
   "number_sections": false,
   "sideBar": true,
   "skip_h1_title": false,
   "title_cell": "Table of Contents",
   "title_sidebar": "Contents",
   "toc_cell": false,
   "toc_position": {},
   "toc_section_display": true,
   "toc_window_display": true
  },
  "varInspector": {
   "cols": {
    "lenName": 16,
    "lenType": 16,
    "lenVar": 40
   },
   "kernels_config": {
    "python": {
     "delete_cmd_postfix": "",
     "delete_cmd_prefix": "del ",
     "library": "var_list.py",
     "varRefreshCmd": "print(var_dic_list())"
    },
    "r": {
     "delete_cmd_postfix": ") ",
     "delete_cmd_prefix": "rm(",
     "library": "var_list.r",
     "varRefreshCmd": "cat(var_dic_list()) "
    }
   },
   "types_to_exclude": [
    "module",
    "function",
    "builtin_function_or_method",
    "instance",
    "_Feature"
   ],
   "window_display": false
  }
 },
 "nbformat": 4,
 "nbformat_minor": 4
}
